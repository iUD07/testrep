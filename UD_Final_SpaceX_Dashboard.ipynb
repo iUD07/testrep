{
    "cells": [
        {
            "cell_type": "code",
            "execution_count": null,
            "metadata": {},
            "outputs": [],
            "source": "!pip install dash"
        },
        {
            "cell_type": "code",
            "execution_count": null,
            "metadata": {},
            "outputs": [],
            "source": "!pip install jupyter_dash"
        },
        {
            "cell_type": "code",
            "execution_count": null,
            "metadata": {},
            "outputs": [],
            "source": "# Import required libraries\nimport pandas as pd\nimport dash\nimport dash_html_components as html\nimport dash_core_components as dcc\nfrom dash.dependencies import Input, Output\nfrom jupyter_dash import JupyterDash\nimport plotly.express as px\nimport plotly.graph_objects as go\nfrom plotly.offline import init_notebook_mode\ninit_notebook_mode(connected=True)\nJupyterDash.infer_jupyter_proxy_config()"
        },
        {
            "cell_type": "code",
            "execution_count": null,
            "metadata": {},
            "outputs": [],
            "source": "# Read the spacex data into pandas dataframe\nspacex_df = pd.read_csv(\"spacex_launch_dash.csv\")\nmax_payload = spacex_df['Payload Mass (kg)'].max()\nmin_payload = spacex_df['Payload Mass (kg)'].min()\n\n\n# Create a dash application\napp = dash.Dash(__name__)\napp.layout = html.Div(children=[html.H1('SpaceX Launch Records Dashboard',\n                                        style={'textAlign': 'center', 'color': '#503D36',\n                                               'font-size': 40}),\n                                # TASK 1: Add a dropdown list to enable Launch Site selection\n                                # The default select value is for ALL sites\n                                dcc.Dropdown(id='site_dropdown',\n                                             options=[{'label': 'All Sites', 'value': 'All Sites'},\n                                                      {'label': 'CCAFS LC-40', 'value': 'CCAFS LC-40'},\n                                                      {'label': 'VAFB SLC-4E', 'value': 'VAFB SLC-4E'},\n                                                      {'label': 'KSC LC-39A', 'value': 'KSC LC-39A'},\n                                                      {'label': 'CCAFS SLC-40', 'value': 'CCAFS SLC-40'}],\n                                             multi=False, placeholder='Select a Launch Site here',searchable=True),\n                                html.Div(id='table-container'),\n                                html.Br(),\n\n                                # TASK 2: Add a pie chart to show the total successful launches count for all sites\n                                # If a specific launch site was selected, show the Success vs. Failed counts for the site\n                                #html.P(\"Graph:\"),\n                                html.Div(dcc.Graph(id='success-pie-chart',figure='figure')),\n                                html.Br(),\n\n                                html.P(\"Payload range (Kg):\"),\n                                # TASK 3: Add a slider to select payload range\n                                dcc.RangeSlider(id='payload_slider',min=0,max=10000,step=1000,value=[min_payload,max_payload],\n                                               marks={\n                                                   0: {'label': '0', 'style': {'color': 'black'}},\n                                                   2500: {'label': '2500', 'style': {'color': 'black'}},\n                                                   5000: {'label': '5000', 'style': {'color': 'black'}},\n                                                   10000: {'label': '10000', 'style': {'color': 'black'}}\n                                               },updatemode='drag'),\n                               # TASK 4: Add a scatter chart to show the correlation between payload and launch success\n                                html.Div(dcc.Graph(id='success-payload-scatter-chart'))])\n\n@app.callback( Output(component_id='success-pie-chart', component_property='figure'),\n              Input(component_id='site_dropdown', component_property='value'))\ndef site(site_dropdown):\n    if site_dropdown in ['CCAFS LC-40','VAFB SLC-4E','KSC LC-39A','CCAFS SLC-40']:\n        df =  spacex_df[spacex_df['Launch Site']==str(site_dropdown)]\n        ttle=str(site_dropdown)\n        fig=px.pie(df,values=df.groupby(['class'])['Launch Site'].count(),names=df['class'].unique(),\n                  title='Total Success Launches by Site '+ttle)\n    if site_dropdown == 'All Sites':\n        df =  spacex_df[['Launch Site','class']]\n        fig=px.pie(df,values=df['class'],names=df['Launch Site'],title='Total Success Launches by Sites')\n    else:\n        print('Please select from the dropdown menu')\n    return fig\n\n@app.callback(Output(component_id='success-payload-scatter-chart', component_property='figure'),\n              #Input(component_id=\"payload_slider\", component_property=\"value\"),\n             Input(component_id='site_dropdown', component_property='value'))\ndef slider(site_dropdown):\n    if site_dropdown=='All Sites':\n        fig=px.scatter(spacex_df,x=spacex_df['Payload Mass (kg)'], y=spacex_df['class'],color=\"Booster Version Category\",\n                       title='Correlation between Payload and Success for all Sites')\n    if site_dropdown in ['CCAFS LC-40','VAFB SLC-4E','KSC LC-39A','CCAFS SLC-40']: \n        df=spacex_df[spacex_df['Launch Site']==str(site_dropdown)]\n        ttle=str(site_dropdown)\n        fig=px.scatter(df,x=df['Payload Mass (kg)'], y=df['class'],color=\"Booster Version Category\",\n                       title='Correlation between Payload and Success for Site '+ttle)\n    else:\n        print('Please select from the available options')\n    return fig\n\n# Run the app\nif __name__ == '__main__':\n    app.run_server(host=\"localhost\", port=8050,debug=False, dev_tools_ui=False, dev_tools_props_check=False)"
        },
        {
            "cell_type": "code",
            "execution_count": null,
            "metadata": {},
            "outputs": [],
            "source": ""
        }
    ],
    "metadata": {
        "kernelspec": {
            "display_name": "Python 3.8",
            "language": "python",
            "name": "python3"
        },
        "language_info": {
            "codemirror_mode": {
                "name": "ipython",
                "version": 3
            },
            "file_extension": ".py",
            "mimetype": "text/x-python",
            "name": "python",
            "nbconvert_exporter": "python",
            "pygments_lexer": "ipython3",
            "version": "3.8.10"
        }
    },
    "nbformat": 4,
    "nbformat_minor": 4
}